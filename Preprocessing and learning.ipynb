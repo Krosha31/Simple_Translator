{
 "cells": [
  {
   "cell_type": "code",
   "execution_count": 1,
   "metadata": {
    "execution": {
     "iopub.execute_input": "2023-04-12T11:08:47.859695Z",
     "iopub.status.busy": "2023-04-12T11:08:47.859263Z",
     "iopub.status.idle": "2023-04-12T11:08:56.316890Z",
     "shell.execute_reply": "2023-04-12T11:08:56.315716Z",
     "shell.execute_reply.started": "2023-04-12T11:08:47.859666Z"
    },
    "id": "6FRs-zhagPYx"
   },
   "outputs": [],
   "source": [
    "import pandas as pd\n",
    "import tensorflow as tf\n",
    "from tensorflow.keras import layers\n",
    "import numpy as np\n",
    "\n",
    "\n",
    "import random\n",
    "import math\n",
    "import time"
   ]
  },
  {
   "cell_type": "code",
   "execution_count": 1,
   "metadata": {},
   "outputs": [
    {
     "name": "stdout",
     "output_type": "stream",
     "text": [
      "Num GPUs Available:  0\n"
     ]
    }
   ],
   "source": [
    "import tensorflow as tf\n",
    "print(\"Num GPUs Available: \", len(tf.config.list_physical_devices('GPU')))"
   ]
  },
  {
   "cell_type": "code",
   "execution_count": 2,
   "metadata": {
    "execution": {
     "iopub.execute_input": "2023-04-12T11:08:56.319745Z",
     "iopub.status.busy": "2023-04-12T11:08:56.318918Z",
     "iopub.status.idle": "2023-04-12T11:08:57.061846Z",
     "shell.execute_reply": "2023-04-12T11:08:57.060828Z",
     "shell.execute_reply.started": "2023-04-12T11:08:56.319702Z"
    },
    "id": "yVzglzvagROF"
   },
   "outputs": [],
   "source": [
    "with open('../input/englishrussian-dictionary-for-machine-translate/rus.txt') as f:\n",
    "    text = f.read()"
   ]
  },
  {
   "cell_type": "code",
   "execution_count": 5,
   "metadata": {
    "execution": {
     "iopub.execute_input": "2023-04-12T11:08:57.991701Z",
     "iopub.status.busy": "2023-04-12T11:08:57.991294Z",
     "iopub.status.idle": "2023-04-12T11:08:58.000440Z",
     "shell.execute_reply": "2023-04-12T11:08:57.999519Z",
     "shell.execute_reply.started": "2023-04-12T11:08:57.991664Z"
    },
    "id": "W01EkmIBndZu"
   },
   "outputs": [],
   "source": [
    "import string\n",
    "\n",
    "def preprocess_lines(text):\n",
    "    text = ''.join(i for i in text if i not in string.punctuation)\n",
    "    return text.lower()"
   ]
  },
  {
   "cell_type": "code",
   "execution_count": 6,
   "metadata": {
    "execution": {
     "iopub.execute_input": "2023-04-12T11:08:58.002599Z",
     "iopub.status.busy": "2023-04-12T11:08:58.001930Z",
     "iopub.status.idle": "2023-04-12T11:08:58.014274Z",
     "shell.execute_reply": "2023-04-12T11:08:58.013273Z",
     "shell.execute_reply.started": "2023-04-12T11:08:58.002559Z"
    }
   },
   "outputs": [],
   "source": [
    "maxlen_phrase_encoder = 0\n",
    "maxlen_phrase_decoder = 0\n",
    "\n",
    "def preprocess_data(text, count_lines=70000):\n",
    "    global maxlen_phrase_encoder, maxlen_phrase_decoder\n",
    "    \n",
    "    text_lines=text.split('\\n')\n",
    "    \n",
    "    english_texts, russian_texts = [], []\n",
    "    english_words, russian_words = set() ,set()\n",
    "    \n",
    "    for i in range(count_lines):\n",
    "        preprocessed_text_line = preprocess_text(text_lines[i])\n",
    "        preprocessed_text_line = preprocessed_text_line.split('\\t')\n",
    "        \n",
    "        english_text, russian_text = preprocessed_text_linet[0], '<sos> ' + preprocessed_text_line[1] + ' <eos>'\n",
    "        \n",
    "        english_texts.append(english_text)\n",
    "        maxlen_phrase_encoder = max(maxlen_phrase_encoder, len(english_text))\n",
    "        \n",
    "        russian_texts.append(russian_text)\n",
    "        maxlen_phrase_decoder = max(maxlen_phrase_decoder, len(russian_text))\n",
    "        \n",
    "        for english_word in english_text.split():\n",
    "            if english_word not in english_words:\n",
    "                english_words.add(english_word)\n",
    "                \n",
    "        for russian_word in russian_text.split():\n",
    "            if russian_word not in russian_words:\n",
    "                russian_words.add(russian_word)\n",
    "                \n",
    "    english_words.sort()\n",
    "    russian_words.sort()\n",
    "    return english_texts, russian_texts, english_words, russian_words"
   ]
  },
  {
   "cell_type": "code",
   "execution_count": 7,
   "metadata": {
    "execution": {
     "iopub.execute_input": "2023-04-12T11:08:58.016321Z",
     "iopub.status.busy": "2023-04-12T11:08:58.015813Z",
     "iopub.status.idle": "2023-04-12T11:08:59.958011Z",
     "shell.execute_reply": "2023-04-12T11:08:59.956883Z",
     "shell.execute_reply.started": "2023-04-12T11:08:58.016281Z"
    }
   },
   "outputs": [],
   "source": [
    "english_texts,russian_texts,english_words,russian_words = preprocess_data(text)\n",
    "english_words.append(' ')\n",
    "russian_words.append(' ')"
   ]
  },
  {
   "cell_type": "code",
   "execution_count": 8,
   "metadata": {
    "execution": {
     "iopub.execute_input": "2023-04-12T11:08:59.960135Z",
     "iopub.status.busy": "2023-04-12T11:08:59.959727Z",
     "iopub.status.idle": "2023-04-12T11:08:59.997594Z",
     "shell.execute_reply": "2023-04-12T11:08:59.996673Z",
     "shell.execute_reply.started": "2023-04-12T11:08:59.960096Z"
    }
   },
   "outputs": [
    {
     "data": {
      "text/html": [
       "<div>\n",
       "<style scoped>\n",
       "    .dataframe tbody tr th:only-of-type {\n",
       "        vertical-align: middle;\n",
       "    }\n",
       "\n",
       "    .dataframe tbody tr th {\n",
       "        vertical-align: top;\n",
       "    }\n",
       "\n",
       "    .dataframe thead th {\n",
       "        text-align: right;\n",
       "    }\n",
       "</style>\n",
       "<table border=\"1\" class=\"dataframe\">\n",
       "  <thead>\n",
       "    <tr style=\"text-align: right;\">\n",
       "      <th></th>\n",
       "      <th>English</th>\n",
       "      <th>Russian</th>\n",
       "    </tr>\n",
       "  </thead>\n",
       "  <tbody>\n",
       "    <tr>\n",
       "      <th>0</th>\n",
       "      <td>go</td>\n",
       "      <td>&lt;sos&gt; марш &lt;eos&gt;</td>\n",
       "    </tr>\n",
       "    <tr>\n",
       "      <th>1</th>\n",
       "      <td>go</td>\n",
       "      <td>&lt;sos&gt; иди &lt;eos&gt;</td>\n",
       "    </tr>\n",
       "    <tr>\n",
       "      <th>2</th>\n",
       "      <td>go</td>\n",
       "      <td>&lt;sos&gt; идите &lt;eos&gt;</td>\n",
       "    </tr>\n",
       "    <tr>\n",
       "      <th>3</th>\n",
       "      <td>hi</td>\n",
       "      <td>&lt;sos&gt; здравствуйте &lt;eos&gt;</td>\n",
       "    </tr>\n",
       "    <tr>\n",
       "      <th>4</th>\n",
       "      <td>hi</td>\n",
       "      <td>&lt;sos&gt; привет &lt;eos&gt;</td>\n",
       "    </tr>\n",
       "    <tr>\n",
       "      <th>...</th>\n",
       "      <td>...</td>\n",
       "      <td>...</td>\n",
       "    </tr>\n",
       "    <tr>\n",
       "      <th>69995</th>\n",
       "      <td>were unimaginative</td>\n",
       "      <td>&lt;sos&gt; у нас нет воображения &lt;eos&gt;</td>\n",
       "    </tr>\n",
       "    <tr>\n",
       "      <th>69996</th>\n",
       "      <td>were very flexible</td>\n",
       "      <td>&lt;sos&gt; мы очень гибкие &lt;eos&gt;</td>\n",
       "    </tr>\n",
       "    <tr>\n",
       "      <th>69997</th>\n",
       "      <td>were very grateful</td>\n",
       "      <td>&lt;sos&gt; мы весьма благодарны &lt;eos&gt;</td>\n",
       "    </tr>\n",
       "    <tr>\n",
       "      <th>69998</th>\n",
       "      <td>were very grateful</td>\n",
       "      <td>&lt;sos&gt; мы очень признательны &lt;eos&gt;</td>\n",
       "    </tr>\n",
       "    <tr>\n",
       "      <th>69999</th>\n",
       "      <td>were very grateful</td>\n",
       "      <td>&lt;sos&gt; мы очень благодарны &lt;eos&gt;</td>\n",
       "    </tr>\n",
       "  </tbody>\n",
       "</table>\n",
       "<p>70000 rows × 2 columns</p>\n",
       "</div>"
      ],
      "text/plain": [
       "                  English                            Russian\n",
       "0                      go                   <sos> марш <eos>\n",
       "1                      go                    <sos> иди <eos>\n",
       "2                      go                  <sos> идите <eos>\n",
       "3                      hi           <sos> здравствуйте <eos>\n",
       "4                      hi                 <sos> привет <eos>\n",
       "...                   ...                                ...\n",
       "69995  were unimaginative  <sos> у нас нет воображения <eos>\n",
       "69996  were very flexible        <sos> мы очень гибкие <eos>\n",
       "69997  were very grateful   <sos> мы весьма благодарны <eos>\n",
       "69998  were very grateful  <sos> мы очень признательны <eos>\n",
       "69999  were very grateful    <sos> мы очень благодарны <eos>\n",
       "\n",
       "[70000 rows x 2 columns]"
      ]
     },
     "execution_count": 8,
     "metadata": {},
     "output_type": "execute_result"
    }
   ],
   "source": [
    "data = pd.DataFrame({'English':english_texts, 'Russian':russian_texts})\n",
    "data"
   ]
  },
  {
   "cell_type": "code",
   "execution_count": 10,
   "metadata": {
    "execution": {
     "iopub.execute_input": "2023-04-12T11:09:02.728532Z",
     "iopub.status.busy": "2023-04-12T11:09:02.728247Z",
     "iopub.status.idle": "2023-04-12T11:09:02.743651Z",
     "shell.execute_reply": "2023-04-12T11:09:02.742549Z",
     "shell.execute_reply.started": "2023-04-12T11:09:02.728505Z"
    }
   },
   "outputs": [],
   "source": [
    "russian_word_to_key = {word:number for number, word in enumerate(russian_words)}\n",
    "english_word_to_key = {word:number for number, word in enumerate(english_words)}\n",
    "\n",
    "russian_key_to_word = {number:word for number, word in enumerate(russian_words)}\n",
    "english_key_to_word = {number:word for number, word in enumerate(english_words)}\n"
   ]
  },
  {
   "cell_type": "code",
   "execution_count": 11,
   "metadata": {
    "execution": {
     "iopub.execute_input": "2023-04-12T11:09:02.746132Z",
     "iopub.status.busy": "2023-04-12T11:09:02.745479Z",
     "iopub.status.idle": "2023-04-12T11:09:02.756961Z",
     "shell.execute_reply": "2023-04-12T11:09:02.755883Z",
     "shell.execute_reply.started": "2023-04-12T11:09:02.746094Z"
    }
   },
   "outputs": [],
   "source": [
    "def new_batch(X, y, batch_size=64):\n",
    "    \n",
    "    while True:\n",
    "        for i in range(len(X)// batch_size):\n",
    "            l, r = i * batch_size, (i + 1) * batch_size\n",
    "            encoder_input = np.zeros((batch_size, maxlen_phrase_encoder), dtype='float32')\n",
    "            decoder_input = np.zeros((batch_size, maxlen_phrase_decoder), dtype='float32')\n",
    "            decoder_output = np.zeros((batch_size, maxlen_phrase_decoder, count_decoder_tokens), dtype='float32')\n",
    "\n",
    "            \n",
    "            for j in range(l, r):\n",
    "                encoder_text = X[j].split()\n",
    "                decoder_text = y[j].split()\n",
    "                for k in range(len(encoder_text)):\n",
    "                    encoder_input[j - l][k] = english_word_to_key.get(encoder_text[k], english_word_to_key[' '])\n",
    "                for k in range(len(decoder_text)):\n",
    "                    if k < len(decoder_text) - 1:\n",
    "                        decoder_input[j - l][k] = russian_word_to_key.get(decoder_text[k], russian_word_to_key[' '])\n",
    "                    if (k > 0):\n",
    "                        decoder_output[j - l][k - 1][russian_word_to_key.get(decoder_text[k],\n",
    "                                                                            russian_word_to_key[' '])] = 1\n",
    "\n",
    "            yield ([encoder_input,decoder_input],decoder_output)\n",
    "    "
   ]
  },
  {
   "cell_type": "code",
   "execution_count": 12,
   "metadata": {
    "execution": {
     "iopub.execute_input": "2023-04-12T11:09:02.758953Z",
     "iopub.status.busy": "2023-04-12T11:09:02.758582Z",
     "iopub.status.idle": "2023-04-12T11:09:02.772935Z",
     "shell.execute_reply": "2023-04-12T11:09:02.771894Z",
     "shell.execute_reply.started": "2023-04-12T11:09:02.758918Z"
    },
    "id": "xECbwWiH_INF"
   },
   "outputs": [],
   "source": [
    "hidden_dim=512\n",
    "embedding_dim=256\n",
    "batch_size = 64\n",
    "\n",
    "count_encoder_tokens = len(english_words)\n",
    "count_decoder_tokens = len(russian_words) + 1"
   ]
  },
  {
   "cell_type": "code",
   "execution_count": 13,
   "metadata": {
    "execution": {
     "iopub.execute_input": "2023-04-12T11:09:02.776829Z",
     "iopub.status.busy": "2023-04-12T11:09:02.776410Z",
     "iopub.status.idle": "2023-04-12T11:09:08.431357Z",
     "shell.execute_reply": "2023-04-12T11:09:08.430195Z",
     "shell.execute_reply.started": "2023-04-12T11:09:02.776778Z"
    },
    "id": "fyHQxVvoAXfy",
    "outputId": "e26613a0-97b1-4c38-d66f-7ea474b85327"
   },
   "outputs": [],
   "source": [
    "encoder_inputs = layers.Input(shape=(None, ))\n",
    "encoder_embedding_layer = layers.Embedding(input_dim=count_encoder_tokens, output_dim=embedding_dim, mask_zero=True)\n",
    "encoder_embeddings = encoder_embedding_layer(encoder_inputs)\n",
    "encoder_lstm = layers.Bidirectional(layers.LSTM(units=hidden_dim, return_state=True))\n",
    "_,encoder_hidden_state1,encoder_cell_state1,encoder_hidden_state2,encoder_cell_state2=encoder_lstm(encoder_embeddings)\n",
    "encoder_state=[encoder_hidden_state1 + encoder_hidden_state2,encoder_cell_state1 + encoder_cell_state2]\n",
    "\n",
    "\n",
    "decoder_inputs = layers.Input(shape=(None, ))\n",
    "decoder_embedding_layer = layers.Embedding(input_dim=count_decoder_tokens, output_dim=embedding_dim, mask_zero=True)\n",
    "decoder_embeddings = decoder_embedding_layer(decoder_inputs)\n",
    "decoder_lstm = layers.LSTM(units=hidden_dim, return_sequences=True, return_state=True)\n",
    "decoder_output, _, _ = decoder_lstm(decoder_embeddings, initial_state=encoder_state)\n",
    "output_layer = layers.Dense(units=count_decoder_tokens)\n",
    "decoder_output = output_layer(decoder_output)\n",
    "output = tf.nn.softmax(decoder_output)\n",
    "\n",
    "\n",
    "model = tf.keras.models.Model(inputs=(encoder_inputs, decoder_inputs), outputs=output)\n",
    "\n",
    "\n"
   ]
  },
  {
   "cell_type": "code",
   "execution_count": 14,
   "metadata": {
    "execution": {
     "iopub.execute_input": "2023-04-12T11:09:08.433215Z",
     "iopub.status.busy": "2023-04-12T11:09:08.432874Z",
     "iopub.status.idle": "2023-04-12T11:09:08.467335Z",
     "shell.execute_reply": "2023-04-12T11:09:08.466568Z",
     "shell.execute_reply.started": "2023-04-12T11:09:08.433178Z"
    },
    "id": "j_M6yG2mO25_"
   },
   "outputs": [
    {
     "name": "stdout",
     "output_type": "stream",
     "text": [
      "Model: \"model\"\n",
      "__________________________________________________________________________________________________\n",
      " Layer (type)                   Output Shape         Param #     Connected to                     \n",
      "==================================================================================================\n",
      " input_1 (InputLayer)           [(None, None)]       0           []                               \n",
      "                                                                                                  \n",
      " embedding (Embedding)          (None, None, 256)    1528576     ['input_1[0][0]']                \n",
      "                                                                                                  \n",
      " input_2 (InputLayer)           [(None, None)]       0           []                               \n",
      "                                                                                                  \n",
      " bidirectional (Bidirectional)  [(None, 1024),       3149824     ['embedding[0][0]']              \n",
      "                                 (None, 512),                                                     \n",
      "                                 (None, 512),                                                     \n",
      "                                 (None, 512),                                                     \n",
      "                                 (None, 512)]                                                     \n",
      "                                                                                                  \n",
      " embedding_1 (Embedding)        (None, None, 256)    4288768     ['input_2[0][0]']                \n",
      "                                                                                                  \n",
      " tf.__operators__.add (TFOpLamb  (None, 512)         0           ['bidirectional[0][1]',          \n",
      " da)                                                              'bidirectional[0][3]']          \n",
      "                                                                                                  \n",
      " tf.__operators__.add_1 (TFOpLa  (None, 512)         0           ['bidirectional[0][2]',          \n",
      " mbda)                                                            'bidirectional[0][4]']          \n",
      "                                                                                                  \n",
      " lstm_1 (LSTM)                  [(None, None, 512),  1574912     ['embedding_1[0][0]',            \n",
      "                                 (None, 512),                     'tf.__operators__.add[0][0]',   \n",
      "                                 (None, 512)]                     'tf.__operators__.add_1[0][0]'] \n",
      "                                                                                                  \n",
      " dense (Dense)                  (None, None, 16753)  8594289     ['lstm_1[0][0]']                 \n",
      "                                                                                                  \n",
      " tf.nn.softmax (TFOpLambda)     (None, None, 16753)  0           ['dense[0][0]']                  \n",
      "                                                                                                  \n",
      "==================================================================================================\n",
      "Total params: 19,136,369\n",
      "Trainable params: 19,136,369\n",
      "Non-trainable params: 0\n",
      "__________________________________________________________________________________________________\n"
     ]
    }
   ],
   "source": [
    "model.summary()"
   ]
  },
  {
   "cell_type": "code",
   "execution_count": 15,
   "metadata": {
    "execution": {
     "iopub.execute_input": "2023-04-12T11:09:08.468655Z",
     "iopub.status.busy": "2023-04-12T11:09:08.468307Z",
     "iopub.status.idle": "2023-04-12T11:09:08.497831Z",
     "shell.execute_reply": "2023-04-12T11:09:08.496778Z",
     "shell.execute_reply.started": "2023-04-12T11:09:08.468601Z"
    }
   },
   "outputs": [],
   "source": [
    "\n",
    "model.compile(optimizer='adam',loss='categorical_crossentropy', metrics=['categorical_crossentropy'])"
   ]
  },
  {
   "cell_type": "code",
   "execution_count": 16,
   "metadata": {
    "execution": {
     "iopub.execute_input": "2023-04-12T11:09:08.499659Z",
     "iopub.status.busy": "2023-04-12T11:09:08.498896Z",
     "iopub.status.idle": "2023-04-12T11:09:08.533472Z",
     "shell.execute_reply": "2023-04-12T11:09:08.532572Z",
     "shell.execute_reply.started": "2023-04-12T11:09:08.499608Z"
    }
   },
   "outputs": [],
   "source": [
    "from sklearn.model_selection import train_test_split\n",
    "\n",
    "X_train, X_val, y_train, y_val = [arr.to_numpy() for arr in train_test_split(data['English'], data['Russian'], test_size=0.07, random_state=31)]"
   ]
  },
  {
   "cell_type": "code",
   "execution_count": null,
   "metadata": {
    "execution": {
     "iopub.execute_input": "2023-04-12T11:09:08.535481Z",
     "iopub.status.busy": "2023-04-12T11:09:08.534761Z"
    }
   },
   "outputs": [
    {
     "name": "stdout",
     "output_type": "stream",
     "text": [
      "Epoch 1/6\n",
      "1017/1017 [==============================] - 651s 624ms/step - loss: 0.2615 - categorical_crossentropy: 0.2615 - val_loss: 0.2019 - val_categorical_crossentropy: 0.2019\n",
      "Epoch 2/6\n",
      "1017/1017 [==============================] - 621s 611ms/step - loss: 0.1611 - categorical_crossentropy: 0.1611 - val_loss: 0.1463 - val_categorical_crossentropy: 0.1463\n",
      "Epoch 3/6\n",
      "1017/1017 [==============================] - 632s 621ms/step - loss: 0.1042 - categorical_crossentropy: 0.1042 - val_loss: 0.1207 - val_categorical_crossentropy: 0.1207\n",
      "Epoch 4/6\n",
      " 717/1017 [====================>.........] - ETA: 2:51 - loss: 0.0727 - categorical_crossentropy: 0.0727"
     ]
    }
   ],
   "source": [
    "history=model.fit(\n",
    "    x=new_batch(X_train,y_train),\n",
    "    validation_data=new_batch(X_val,y_val),\n",
    "    batch_size=batch_size,\n",
    "    epochs=6,\n",
    "    steps_per_epoch=len(X_train)//batch_size,\n",
    "    validation_steps=len(X_val)//batch_size\n",
    ")"
   ]
  },
  {
   "cell_type": "code",
   "execution_count": null,
   "metadata": {},
   "outputs": [],
   "source": [
    "encoder_model=tf.keras.models.Model(inputs=encoder_inputs,outputs=encoder_state)"
   ]
  },
  {
   "cell_type": "code",
   "execution_count": null,
   "metadata": {},
   "outputs": [],
   "source": [
    "decoder_hidden_state=layers.Input(shape=(hidden_dim,))\n",
    "decoder_cell_state=layers.Input(shape=(hidden_dim,))\n",
    "decoder_init_state=[decoder_hidden_state,decoder_cell_state]\n",
    "decoder_embeddings=decoder_embedding_layer(decoder_inputs)\n",
    "decoder_output,decoder_output_hidden_state,decoder_output_cell_state=decoder_lstm(decoder_embeddings\n",
    "                                                                    ,initial_state=decoder_init_state)\n",
    "decoder_final_state=[decoder_output_hidden_state,decoder_output_cell_state]\n",
    "decoder_output=output_layer(decoder_output)\n",
    "decoder_probs=tf.nn.softmax(decoder_output)\n",
    "decoder_model=tf.keras.models.Model(inputs=[decoder_inputs]+decoder_init_state\n",
    "                                    ,outputs=[decoder_probs]+decoder_final_state)"
   ]
  },
  {
   "cell_type": "code",
   "execution_count": null,
   "metadata": {},
   "outputs": [],
   "source": [
    "def generate_text(text):\n",
    "    translation=\"\"\n",
    "    states_value=encoder_model(text)\n",
    "    target=np.zeros((1,1))\n",
    "    target[0,0]=russian_word_to_key['<sos>']\n",
    "    stop_condition=False\n",
    "    while not stop_condition:\n",
    "        output_token,hidden_state,cell_state=decoder_model([target]+states_value)\n",
    "        char_index=np.argmax(output_token[0,-1,:])\n",
    "        char=russian_key_to_word[char_index]\n",
    "        if char=='<eos>' or len(translation)>=maxlen_phrase_decoder:\n",
    "            stop_condition=True\n",
    "            continue\n",
    "        translation+=' '+char\n",
    "        states_value=[hidden_state,cell_state]\n",
    "        target[0,0]=russian_word_to_key[char]\n",
    "    return translation"
   ]
  },
  {
   "cell_type": "code",
   "execution_count": null,
   "metadata": {},
   "outputs": [],
   "source": [
    "model.save('/kaggle/working/')\n"
   ]
  },
  {
   "cell_type": "code",
   "execution_count": null,
   "metadata": {},
   "outputs": [],
   "source": [
    "encoder_model.save('/kaggle/working/encoder')\n",
    "decoder_model.save('/kaggle/working/decoder')"
   ]
  },
  {
   "cell_type": "code",
   "execution_count": null,
   "metadata": {},
   "outputs": [],
   "source": []
  }
 ],
 "metadata": {
  "kernelspec": {
   "display_name": "Python 3 (ipykernel)",
   "language": "python",
   "name": "python3"
  },
  "language_info": {
   "codemirror_mode": {
    "name": "ipython",
    "version": 3
   },
   "file_extension": ".py",
   "mimetype": "text/x-python",
   "name": "python",
   "nbconvert_exporter": "python",
   "pygments_lexer": "ipython3",
   "version": "3.10.0"
  }
 },
 "nbformat": 4,
 "nbformat_minor": 4
}
